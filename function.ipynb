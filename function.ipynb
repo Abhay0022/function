{
 "cells": [
  {
   "cell_type": "code",
   "execution_count": 6,
   "id": "64c94f38-b773-4cd0-89f4-599b7134b836",
   "metadata": {},
   "outputs": [
    {
     "ename": "SyntaxError",
     "evalue": "incomplete input (3861551224.py, line 1)",
     "output_type": "error",
     "traceback": [
      "\u001b[0;36m  Cell \u001b[0;32mIn[6], line 1\u001b[0;36m\u001b[0m\n\u001b[0;31m    def test():\u001b[0m\n\u001b[0m               ^\u001b[0m\n\u001b[0;31mSyntaxError\u001b[0m\u001b[0;31m:\u001b[0m incomplete input\n"
     ]
    }
   ],
   "source": [
    "def test():"
   ]
  },
  {
   "cell_type": "code",
   "execution_count": 7,
   "id": "e67d05ee-ebc5-4d6a-98aa-b9a19f2e4e83",
   "metadata": {},
   "outputs": [],
   "source": [
    "def test():\n",
    "    pass"
   ]
  },
  {
   "cell_type": "code",
   "execution_count": 8,
   "id": "b7d47988-eeec-43ed-81eb-8796d0579808",
   "metadata": {},
   "outputs": [],
   "source": [
    "def test1():\n",
    "    print(\"i am data engingeer\")"
   ]
  },
  {
   "cell_type": "code",
   "execution_count": 10,
   "id": "8b733fa5-6418-4637-b60d-bdc4f9bf3436",
   "metadata": {},
   "outputs": [
    {
     "name": "stdout",
     "output_type": "stream",
     "text": [
      "i am data engingeer\n"
     ]
    }
   ],
   "source": [
    "test1()"
   ]
  },
  {
   "cell_type": "code",
   "execution_count": 11,
   "id": "f670a6ae-3e50-4fb2-be1e-4323ef24055a",
   "metadata": {},
   "outputs": [
    {
     "name": "stdout",
     "output_type": "stream",
     "text": [
      "i am data engingeer\n"
     ]
    },
    {
     "ename": "TypeError",
     "evalue": "unsupported operand type(s) for +: 'NoneType' and 'str'",
     "output_type": "error",
     "traceback": [
      "\u001b[0;31m---------------------------------------------------------------------------\u001b[0m",
      "\u001b[0;31mTypeError\u001b[0m                                 Traceback (most recent call last)",
      "Cell \u001b[0;32mIn[11], line 1\u001b[0m\n\u001b[0;32m----> 1\u001b[0m \u001b[43mtest1\u001b[49m\u001b[43m(\u001b[49m\u001b[43m)\u001b[49m\u001b[38;5;241;43m+\u001b[39;49m\u001b[38;5;124;43m\"\u001b[39;49m\u001b[38;5;124;43mgautam\u001b[39;49m\u001b[38;5;124;43m\"\u001b[39;49m\n",
      "\u001b[0;31mTypeError\u001b[0m: unsupported operand type(s) for +: 'NoneType' and 'str'"
     ]
    }
   ],
   "source": [
    "test1()+\"gautam\""
   ]
  },
  {
   "cell_type": "code",
   "execution_count": 12,
   "id": "700d7f7a-dff2-45f2-9811-4cc6edc6e2f8",
   "metadata": {},
   "outputs": [],
   "source": [
    "def test2():\n",
    "    return \"i am a \""
   ]
  },
  {
   "cell_type": "code",
   "execution_count": 13,
   "id": "1bf062af-e646-4145-a237-f826d09e7e58",
   "metadata": {},
   "outputs": [
    {
     "data": {
      "text/plain": [
       "'i am a '"
      ]
     },
     "execution_count": 13,
     "metadata": {},
     "output_type": "execute_result"
    }
   ],
   "source": [
    "test2()"
   ]
  },
  {
   "cell_type": "code",
   "execution_count": 15,
   "id": "b55aaf51-646d-4181-b23a-b730a3bb8532",
   "metadata": {},
   "outputs": [
    {
     "data": {
      "text/plain": [
       "'i am a data engineer'"
      ]
     },
     "execution_count": 15,
     "metadata": {},
     "output_type": "execute_result"
    }
   ],
   "source": [
    "test2()+\"data engineer\""
   ]
  },
  {
   "cell_type": "code",
   "execution_count": 17,
   "id": "bf160935-0654-4d1f-9fdf-4ebdab675688",
   "metadata": {},
   "outputs": [],
   "source": [
    "def test3():\n",
    "    print(1,3,4,6,78,\"sudh\",\"raju\")"
   ]
  },
  {
   "cell_type": "code",
   "execution_count": 18,
   "id": "7f35782e-e87c-49a8-bb66-7d55697b7d26",
   "metadata": {},
   "outputs": [
    {
     "name": "stdout",
     "output_type": "stream",
     "text": [
      "1 3 4 6 78 sudh raju\n"
     ]
    }
   ],
   "source": [
    "test3()"
   ]
  },
  {
   "cell_type": "code",
   "execution_count": 19,
   "id": "331d0ff1-c960-42d3-9e81-c0613813134f",
   "metadata": {},
   "outputs": [
    {
     "name": "stdout",
     "output_type": "stream",
     "text": [
      "1 3 4 6 78 sudh raju\n"
     ]
    },
    {
     "ename": "TypeError",
     "evalue": "cannot unpack non-iterable NoneType object",
     "output_type": "error",
     "traceback": [
      "\u001b[0;31m---------------------------------------------------------------------------\u001b[0m",
      "\u001b[0;31mTypeError\u001b[0m                                 Traceback (most recent call last)",
      "Cell \u001b[0;32mIn[19], line 1\u001b[0m\n\u001b[0;32m----> 1\u001b[0m a,b,c,d,e,f\u001b[38;5;241m=\u001b[39mtest3()\n",
      "\u001b[0;31mTypeError\u001b[0m: cannot unpack non-iterable NoneType object"
     ]
    }
   ],
   "source": [
    "a,b,c,d,e,f=test3()"
   ]
  },
  {
   "cell_type": "code",
   "execution_count": 20,
   "id": "4256bfb6-442b-4c51-acd6-58407deae5a9",
   "metadata": {},
   "outputs": [],
   "source": [
    "def test4():\n",
    "    return \"gautam\",1,2,3,\"abhay\""
   ]
  },
  {
   "cell_type": "code",
   "execution_count": 21,
   "id": "1dfff144-8ac2-421a-9d30-f353e33fe932",
   "metadata": {},
   "outputs": [
    {
     "data": {
      "text/plain": [
       "('gautam', 1, 2, 3, 'abhay')"
      ]
     },
     "execution_count": 21,
     "metadata": {},
     "output_type": "execute_result"
    }
   ],
   "source": [
    "test4()"
   ]
  },
  {
   "cell_type": "code",
   "execution_count": 23,
   "id": "5b381f73-660e-4a07-926f-b8cc941bff09",
   "metadata": {},
   "outputs": [],
   "source": [
    "a,b,c,d,e=test4()"
   ]
  },
  {
   "cell_type": "code",
   "execution_count": 24,
   "id": "31a7c906-917f-4a4b-96d0-31c88eece424",
   "metadata": {},
   "outputs": [
    {
     "data": {
      "text/plain": [
       "'gautam'"
      ]
     },
     "execution_count": 24,
     "metadata": {},
     "output_type": "execute_result"
    }
   ],
   "source": [
    "a"
   ]
  },
  {
   "cell_type": "code",
   "execution_count": 25,
   "id": "7aefe4ba-286c-48e8-8858-7fb8e3d993c9",
   "metadata": {},
   "outputs": [
    {
     "data": {
      "text/plain": [
       "1"
      ]
     },
     "execution_count": 25,
     "metadata": {},
     "output_type": "execute_result"
    }
   ],
   "source": [
    "b"
   ]
  },
  {
   "cell_type": "code",
   "execution_count": 26,
   "id": "f8e6f89e-3852-4d73-be45-b322046af936",
   "metadata": {},
   "outputs": [
    {
     "data": {
      "text/plain": [
       "2"
      ]
     },
     "execution_count": 26,
     "metadata": {},
     "output_type": "execute_result"
    }
   ],
   "source": [
    "c"
   ]
  },
  {
   "cell_type": "code",
   "execution_count": 27,
   "id": "f89bc027-6940-4d66-b23f-e37fe328f40d",
   "metadata": {},
   "outputs": [
    {
     "data": {
      "text/plain": [
       "3"
      ]
     },
     "execution_count": 27,
     "metadata": {},
     "output_type": "execute_result"
    }
   ],
   "source": [
    "d"
   ]
  },
  {
   "cell_type": "code",
   "execution_count": 28,
   "id": "95868730-60a0-4d30-8172-ca279d7eec6e",
   "metadata": {},
   "outputs": [
    {
     "data": {
      "text/plain": [
       "'abhay'"
      ]
     },
     "execution_count": 28,
     "metadata": {},
     "output_type": "execute_result"
    }
   ],
   "source": [
    "e"
   ]
  },
  {
   "cell_type": "code",
   "execution_count": 39,
   "id": "31c9e80e-0833-4c9f-81ea-06387a82d03b",
   "metadata": {},
   "outputs": [],
   "source": [
    "def test5(a,b,c):\n",
    "    d=a+b/c\n",
    "    return d"
   ]
  },
  {
   "cell_type": "code",
   "execution_count": 41,
   "id": "6e93e5ac-cb05-43e5-ad78-3752497393f9",
   "metadata": {},
   "outputs": [
    {
     "data": {
      "text/plain": [
       "5.5"
      ]
     },
     "execution_count": 41,
     "metadata": {},
     "output_type": "execute_result"
    }
   ],
   "source": [
    "test5(4,6,4)"
   ]
  },
  {
   "cell_type": "code",
   "execution_count": 45,
   "id": "7900f5de-474f-48e1-9b78-2927b42b2a7b",
   "metadata": {},
   "outputs": [],
   "source": [
    "def test6(a,b):\n",
    "    return a+b"
   ]
  },
  {
   "cell_type": "code",
   "execution_count": 46,
   "id": "95cca757-cae3-4644-bae6-0fb418567f69",
   "metadata": {},
   "outputs": [
    {
     "data": {
      "text/plain": [
       "9"
      ]
     },
     "execution_count": 46,
     "metadata": {},
     "output_type": "execute_result"
    }
   ],
   "source": [
    "test6(4,5)"
   ]
  },
  {
   "cell_type": "code",
   "execution_count": 48,
   "id": "fee83bd2-027e-4a72-a8dd-df6270a2c611",
   "metadata": {},
   "outputs": [
    {
     "data": {
      "text/plain": [
       "'abhaygautam'"
      ]
     },
     "execution_count": 48,
     "metadata": {},
     "output_type": "execute_result"
    }
   ],
   "source": [
    "test6(\"abhay\",\"gautam\")"
   ]
  },
  {
   "cell_type": "code",
   "execution_count": 49,
   "id": "be473e85-0aea-4161-a23d-2843f55868fd",
   "metadata": {},
   "outputs": [
    {
     "data": {
      "text/plain": [
       "[1, 2, 3, 4, 5, 6, 100, 200, 400]"
      ]
     },
     "execution_count": 49,
     "metadata": {},
     "output_type": "execute_result"
    }
   ],
   "source": [
    "test6([1,2,3,4,5,6],[100,200,400])"
   ]
  },
  {
   "cell_type": "code",
   "execution_count": 50,
   "id": "79d1fa15-c13a-4c18-b5e0-d0e3501313f9",
   "metadata": {},
   "outputs": [],
   "source": [
    "l=[1,2,3,4,\"abhay\",\"kumar\",[1,2,3,4,5,6,7]]"
   ]
  },
  {
   "cell_type": "code",
   "execution_count": 51,
   "id": "9d843a9a-42df-4e8c-b5ec-afdfbc31c53a",
   "metadata": {},
   "outputs": [],
   "source": [
    "l1=[]\n",
    "for i in l:\n",
    "    if type(i)==int or type(i)==float:\n",
    "        l1.append(i)"
   ]
  },
  {
   "cell_type": "code",
   "execution_count": 52,
   "id": "5a40480a-184f-4414-ab80-0b407cc97408",
   "metadata": {},
   "outputs": [
    {
     "data": {
      "text/plain": [
       "[1, 2, 3, 4]"
      ]
     },
     "execution_count": 52,
     "metadata": {},
     "output_type": "execute_result"
    }
   ],
   "source": [
    "l1"
   ]
  },
  {
   "cell_type": "code",
   "execution_count": 60,
   "id": "77077e46-c158-46e9-86e2-f2eafa5f82b9",
   "metadata": {},
   "outputs": [],
   "source": [
    "def test7(l):\n",
    "    l1=[]\n",
    "    for i in l :\n",
    "        if type(i)==int or type(i)==float:\n",
    "            l1.append(i)\n",
    "    return l1       "
   ]
  },
  {
   "cell_type": "code",
   "execution_count": 62,
   "id": "38c6a569-f2e7-481a-b732-48953a862ed1",
   "metadata": {},
   "outputs": [
    {
     "data": {
      "text/plain": [
       "[1, 2, 3, 4]"
      ]
     },
     "execution_count": 62,
     "metadata": {},
     "output_type": "execute_result"
    }
   ],
   "source": [
    "test7(l)"
   ]
  },
  {
   "cell_type": "code",
   "execution_count": 67,
   "id": "bd5987b7-0b1f-449c-89dc-4aade7888e43",
   "metadata": {},
   "outputs": [],
   "source": [
    "def test8(a):\n",
    "    \"\"\"this is my function to extract num data f \"\"\"\n",
    "    l=[]\n",
    "    for i in a:\n",
    "        if type(i)==list:\n",
    "            for j in i :\n",
    "                l.append(j)\n",
    "        else:\n",
    "            if type(i)==int or type(i)==float:\n",
    "                l.append(i)\n",
    "    return l           \n",
    "                "
   ]
  },
  {
   "cell_type": "code",
   "execution_count": 68,
   "id": "3386dfa7-878f-4233-8729-472ec26b72c6",
   "metadata": {},
   "outputs": [
    {
     "data": {
      "text/plain": [
       "[1, 2, 3, 4, 1, 2, 3, 4, 5, 6, 7]"
      ]
     },
     "execution_count": 68,
     "metadata": {},
     "output_type": "execute_result"
    }
   ],
   "source": [
    "test8(l)"
   ]
  },
  {
   "cell_type": "code",
   "execution_count": null,
   "id": "2208d4dd-9561-4514-99cc-3e8a32ab8346",
   "metadata": {},
   "outputs": [],
   "source": [
    "test8"
   ]
  }
 ],
 "metadata": {
  "kernelspec": {
   "display_name": "Python 3 (ipykernel)",
   "language": "python",
   "name": "python3"
  },
  "language_info": {
   "codemirror_mode": {
    "name": "ipython",
    "version": 3
   },
   "file_extension": ".py",
   "mimetype": "text/x-python",
   "name": "python",
   "nbconvert_exporter": "python",
   "pygments_lexer": "ipython3",
   "version": "3.10.8"
  }
 },
 "nbformat": 4,
 "nbformat_minor": 5
}
