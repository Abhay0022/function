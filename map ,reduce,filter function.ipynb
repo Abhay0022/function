{
 "cells": [
  {
   "cell_type": "code",
   "execution_count": 20,
   "id": "5ff40761-172e-4609-bf78-e63d2a610d96",
   "metadata": {},
   "outputs": [],
   "source": [
    "#map ,reduce ,filter function"
   ]
  },
  {
   "cell_type": "code",
   "execution_count": 21,
   "id": "f20701ed-4ae1-4ab5-878b-effab8fbe146",
   "metadata": {},
   "outputs": [],
   "source": [
    "# map function apply"
   ]
  },
  {
   "cell_type": "code",
   "execution_count": 1,
   "id": "d3822274-1608-4b44-b15c-8bab3b375e98",
   "metadata": {},
   "outputs": [],
   "source": [
    "l=[2,3,4,5,6]"
   ]
  },
  {
   "cell_type": "code",
   "execution_count": 2,
   "id": "b9e900a9-9188-40ff-a395-80a412e0e28e",
   "metadata": {},
   "outputs": [],
   "source": [
    "def test(l):\n",
    "    l1=[]\n",
    "    for i in l :\n",
    "        l1.append(i**2)\n",
    "    return l1    "
   ]
  },
  {
   "cell_type": "code",
   "execution_count": 3,
   "id": "59ca7fb2-e3c0-4f25-a8a8-dd6c9a2e5d11",
   "metadata": {},
   "outputs": [
    {
     "data": {
      "text/plain": [
       "[4, 9, 16, 25, 36]"
      ]
     },
     "execution_count": 3,
     "metadata": {},
     "output_type": "execute_result"
    }
   ],
   "source": [
    "test(l)"
   ]
  },
  {
   "cell_type": "code",
   "execution_count": 4,
   "id": "93b2c58d-be79-4fcd-996b-c3e727cf2e00",
   "metadata": {},
   "outputs": [],
   "source": [
    "def sq(x):\n",
    "    return x**2"
   ]
  },
  {
   "cell_type": "code",
   "execution_count": 6,
   "id": "c0432b06-4896-4d2b-9185-3119ed0c1143",
   "metadata": {},
   "outputs": [
    {
     "data": {
      "text/plain": [
       "<map at 0x7ff85dd276a0>"
      ]
     },
     "execution_count": 6,
     "metadata": {},
     "output_type": "execute_result"
    }
   ],
   "source": [
    "map(sq,l)"
   ]
  },
  {
   "cell_type": "code",
   "execution_count": 7,
   "id": "92484d16-8618-43eb-a319-7a52d25210d9",
   "metadata": {},
   "outputs": [
    {
     "data": {
      "text/plain": [
       "[4, 9, 16, 25, 36]"
      ]
     },
     "execution_count": 7,
     "metadata": {},
     "output_type": "execute_result"
    }
   ],
   "source": [
    "list(map(sq,l))"
   ]
  },
  {
   "cell_type": "code",
   "execution_count": 9,
   "id": "d016568a-02bb-4b70-8dd7-5051079f3756",
   "metadata": {},
   "outputs": [
    {
     "data": {
      "text/plain": [
       "[4, 9, 16, 25, 36]"
      ]
     },
     "execution_count": 9,
     "metadata": {},
     "output_type": "execute_result"
    }
   ],
   "source": [
    "list(map(lambda x:x**2,l))"
   ]
  },
  {
   "cell_type": "code",
   "execution_count": 10,
   "id": "fbd2bd01-9bde-424f-9d92-afa7debe9834",
   "metadata": {},
   "outputs": [],
   "source": [
    "l1=[1,2,3,4,5,6,7]\n",
    "l2=[2,4,5,6,7,7,8]"
   ]
  },
  {
   "cell_type": "code",
   "execution_count": 11,
   "id": "39100c71-97dd-4d52-9c0c-38b22c640c5d",
   "metadata": {},
   "outputs": [
    {
     "data": {
      "text/plain": [
       "[3, 6, 8, 10, 12, 13, 15]"
      ]
     },
     "execution_count": 11,
     "metadata": {},
     "output_type": "execute_result"
    }
   ],
   "source": [
    "list(map(lambda x,y : x+y ,l1,l2))"
   ]
  },
  {
   "cell_type": "code",
   "execution_count": 12,
   "id": "d86389bd-ad32-4700-b916-daad59b7596a",
   "metadata": {},
   "outputs": [],
   "source": [
    "l3=[2,3,4,5,6,7]\n",
    "l4=[3,4,5,6,7,8]"
   ]
  },
  {
   "cell_type": "code",
   "execution_count": 14,
   "id": "604b0685-5bc5-4925-a592-17693e3c0a9c",
   "metadata": {},
   "outputs": [
    {
     "data": {
      "text/plain": [
       "[8, 81, 1024, 15625, 279936, 5764801]"
      ]
     },
     "execution_count": 14,
     "metadata": {},
     "output_type": "execute_result"
    }
   ],
   "source": [
    "list(map(lambda x,y :x**y ,l3,l4))"
   ]
  },
  {
   "cell_type": "code",
   "execution_count": 15,
   "id": "0f38a580-b2ab-4823-9bc7-49a92c545aeb",
   "metadata": {},
   "outputs": [],
   "source": [
    "def add(x,y):\n",
    "    return x+y"
   ]
  },
  {
   "cell_type": "code",
   "execution_count": 17,
   "id": "0f2dbeef-6eea-4023-8ba2-1689cd1ee734",
   "metadata": {},
   "outputs": [
    {
     "data": {
      "text/plain": [
       "[5, 7, 9, 11, 13, 15]"
      ]
     },
     "execution_count": 17,
     "metadata": {},
     "output_type": "execute_result"
    }
   ],
   "source": [
    "list(map(add,l3,l4))"
   ]
  },
  {
   "cell_type": "code",
   "execution_count": 18,
   "id": "88f24c4f-a938-432f-a687-6bb41b1b03f9",
   "metadata": {},
   "outputs": [],
   "source": [
    "s=\"abhaygautam\""
   ]
  },
  {
   "cell_type": "code",
   "execution_count": 19,
   "id": "c9934984-8479-48bf-b033-d546c7bcb5d4",
   "metadata": {},
   "outputs": [
    {
     "data": {
      "text/plain": [
       "['A', 'B', 'H', 'A', 'Y', 'G', 'A', 'U', 'T', 'A', 'M']"
      ]
     },
     "execution_count": 19,
     "metadata": {},
     "output_type": "execute_result"
    }
   ],
   "source": [
    "list(map(lambda s :s.upper(),s))"
   ]
  },
  {
   "cell_type": "code",
   "execution_count": 22,
   "id": "4d997016-9240-4cf4-a623-863691c9ad35",
   "metadata": {},
   "outputs": [],
   "source": [
    "# reduce function apply "
   ]
  },
  {
   "cell_type": "code",
   "execution_count": 23,
   "id": "42fe0b51-1400-4236-a698-18c741e28606",
   "metadata": {},
   "outputs": [],
   "source": [
    "from functools import reduce"
   ]
  },
  {
   "cell_type": "code",
   "execution_count": 24,
   "id": "a0cdb5ce-69aa-4d69-bbe0-3710c14fe3e0",
   "metadata": {},
   "outputs": [],
   "source": [
    "l=[1,2,3,3,4,5]"
   ]
  },
  {
   "cell_type": "code",
   "execution_count": 25,
   "id": "ebbbeef0-ef4c-4a93-a88c-023c98bb64f4",
   "metadata": {},
   "outputs": [
    {
     "data": {
      "text/plain": [
       "18"
      ]
     },
     "execution_count": 25,
     "metadata": {},
     "output_type": "execute_result"
    }
   ],
   "source": [
    "reduce(lambda x,y: x+y,l)"
   ]
  },
  {
   "cell_type": "code",
   "execution_count": 26,
   "id": "32f46994-c614-4d58-a2f6-02e5aad138aa",
   "metadata": {},
   "outputs": [
    {
     "ename": "TypeError",
     "evalue": "reduce() of empty iterable with no initial value",
     "output_type": "error",
     "traceback": [
      "\u001b[0;31m---------------------------------------------------------------------------\u001b[0m",
      "\u001b[0;31mTypeError\u001b[0m                                 Traceback (most recent call last)",
      "Cell \u001b[0;32mIn[26], line 1\u001b[0m\n\u001b[0;32m----> 1\u001b[0m \u001b[43mreduce\u001b[49m\u001b[43m(\u001b[49m\u001b[38;5;28;43;01mlambda\u001b[39;49;00m\u001b[43m \u001b[49m\u001b[43mx\u001b[49m\u001b[43m \u001b[49m\u001b[43m,\u001b[49m\u001b[43my\u001b[49m\u001b[43m \u001b[49m\u001b[43m:\u001b[49m\u001b[43m \u001b[49m\u001b[43mx\u001b[49m\u001b[38;5;241;43m+\u001b[39;49m\u001b[43my\u001b[49m\u001b[43m,\u001b[49m\u001b[43m[\u001b[49m\u001b[43m]\u001b[49m\u001b[43m)\u001b[49m\n",
      "\u001b[0;31mTypeError\u001b[0m: reduce() of empty iterable with no initial value"
     ]
    }
   ],
   "source": [
    "reduce(lambda x ,y : x+y,[])"
   ]
  },
  {
   "cell_type": "code",
   "execution_count": 27,
   "id": "da3e93fe-89bc-47ed-b94e-e8915d43b3bf",
   "metadata": {},
   "outputs": [
    {
     "data": {
      "text/plain": [
       "1"
      ]
     },
     "execution_count": 27,
     "metadata": {},
     "output_type": "execute_result"
    }
   ],
   "source": [
    "reduce(lambda x,y : x+y ,[1])"
   ]
  },
  {
   "cell_type": "code",
   "execution_count": 34,
   "id": "5920034f-86b3-4be0-9eeb-81accdd60616",
   "metadata": {},
   "outputs": [],
   "source": [
    "l1=[2,3,4,5,7,8,9]"
   ]
  },
  {
   "cell_type": "code",
   "execution_count": 46,
   "id": "66ad9614-5624-44e0-8537-7d3b7e7a7d03",
   "metadata": {},
   "outputs": [
    {
     "data": {
      "text/plain": [
       "60480"
      ]
     },
     "execution_count": 46,
     "metadata": {},
     "output_type": "execute_result"
    }
   ],
   "source": [
    "reduce(lambda x,y : x*y,l1)"
   ]
  },
  {
   "cell_type": "code",
   "execution_count": 47,
   "id": "ad2e41f9-58f0-442f-8a4d-73736db8a4a9",
   "metadata": {},
   "outputs": [],
   "source": [
    "l5=[1,2,3,4,5,6,7]"
   ]
  },
  {
   "cell_type": "code",
   "execution_count": 48,
   "id": "91007def-663d-4ee3-9439-3cc8d2bdd9e5",
   "metadata": {},
   "outputs": [
    {
     "data": {
      "text/plain": [
       "7"
      ]
     },
     "execution_count": 48,
     "metadata": {},
     "output_type": "execute_result"
    }
   ],
   "source": [
    "reduce(lambda x,y :x if x>y else y,l5)"
   ]
  },
  {
   "cell_type": "code",
   "execution_count": 56,
   "id": "ef8cd380-3aba-4a53-844c-6758c1ef5df4",
   "metadata": {},
   "outputs": [],
   "source": [
    "l10=[1,2,3,4,5,6,7,8,9,10]"
   ]
  },
  {
   "cell_type": "code",
   "execution_count": 57,
   "id": "069b5b4a-2bb6-43d5-9f8e-5c95067916c3",
   "metadata": {},
   "outputs": [
    {
     "data": {
      "text/plain": [
       "[2, 4, 6, 8, 10]"
      ]
     },
     "execution_count": 57,
     "metadata": {},
     "output_type": "execute_result"
    }
   ],
   "source": [
    "list(filter(lambda x :x%2==0,l10))"
   ]
  },
  {
   "cell_type": "code",
   "execution_count": 58,
   "id": "94c0b41f-6c1c-4817-83c1-87332bec02fc",
   "metadata": {},
   "outputs": [
    {
     "data": {
      "text/plain": [
       "[1, 2, 3, 4, 5, 6, 7, 8, 9, 10]"
      ]
     },
     "execution_count": 58,
     "metadata": {},
     "output_type": "execute_result"
    }
   ],
   "source": [
    "l10"
   ]
  },
  {
   "cell_type": "code",
   "execution_count": 59,
   "id": "301db2e9-bcac-4a71-b428-805b5901a8d9",
   "metadata": {},
   "outputs": [
    {
     "data": {
      "text/plain": [
       "[1, 3, 5, 7, 9]"
      ]
     },
     "execution_count": 59,
     "metadata": {},
     "output_type": "execute_result"
    }
   ],
   "source": [
    "list(filter(lambda x : x%2!=0,l10))"
   ]
  },
  {
   "cell_type": "code",
   "execution_count": 60,
   "id": "3787a270-13db-43e9-ba65-6cf16414af5b",
   "metadata": {},
   "outputs": [],
   "source": [
    "l11=[-3,4,5,6,-1,-5]"
   ]
  },
  {
   "cell_type": "code",
   "execution_count": 61,
   "id": "948e478a-a5e7-4431-baa5-81feca0c9c73",
   "metadata": {},
   "outputs": [
    {
     "data": {
      "text/plain": [
       "[-3, -1, -5]"
      ]
     },
     "execution_count": 61,
     "metadata": {},
     "output_type": "execute_result"
    }
   ],
   "source": [
    "list(filter(lambda x : x<0 ,l11))"
   ]
  },
  {
   "cell_type": "code",
   "execution_count": null,
   "id": "d821c8bc-2ba3-40d2-9f93-811d41486566",
   "metadata": {},
   "outputs": [],
   "source": []
  }
 ],
 "metadata": {
  "kernelspec": {
   "display_name": "Python 3 (ipykernel)",
   "language": "python",
   "name": "python3"
  },
  "language_info": {
   "codemirror_mode": {
    "name": "ipython",
    "version": 3
   },
   "file_extension": ".py",
   "mimetype": "text/x-python",
   "name": "python",
   "nbconvert_exporter": "python",
   "pygments_lexer": "ipython3",
   "version": "3.10.8"
  }
 },
 "nbformat": 4,
 "nbformat_minor": 5
}
